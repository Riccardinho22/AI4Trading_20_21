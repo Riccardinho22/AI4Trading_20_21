{
 "cells": [
  {
   "cell_type": "markdown",
   "metadata": {
    "pycharm": {
     "name": "#%% md\n"
    }
   },
   "source": [
    "# Artificial Intelligence for Trading (Lab Lecture 2)\n",
    "**Contacts: novella@di.uniroma1.it, coletta@di.uniroma1.it, piva@di.uniroma1.it, prata@di.uniroma1.it**\n",
    "\n",
    "## Recap of previous Lab Lecture\n",
    "\n",
    "You have seen examples of data from real stock market dataset (e.g., https://finance.yahoo.com).\n",
    "\n",
    "In particular, **you studied <\"Open\" \"High\" \"Low\" \"Close\"> data format, namely OHLC format**.\n",
    "They will look like the picture below (**AAPL.csv**).\n",
    "\n",
    "<img src=\"data/press_images/AAPL_table.png\" width=\"600\" height=\"700\"/>\n",
    "<br>\n",
    "They have usually have limit granularity (1 day in the picture above), for more accurate data, other kind of data source and structure are often used."
   ]
  },
  {
   "cell_type": "markdown",
   "source": [
    "## Orderbook data\n",
    "The ordebook data (sell, buy, history) allows us to access each single trade.\n",
    "\n",
    "In particular we have the history:\n",
    "\n",
    "<img src=\"data/lab2/orderbook_hist.png\" width=\"600\" height=\"700\"/>\n",
    "<br>\n",
    "Which allows us to re-build the prices of a period.\n",
    "\n",
    "And we have the orderbook view, which allows us to understand and study more trends and perform deep technical analysis:\n",
    "\n",
    "<img src=\"data/lab2/orderbook_struct.png\" width=\"600\" height=\"700\"/>"
   ],
   "metadata": {
    "collapsed": false,
    "pycharm": {
     "name": "#%% md\n"
    }
   }
  },
  {
   "cell_type": "markdown",
   "source": [
    "## Orderbook Technical Analysis\n",
    "\n",
    "There are several techniques, and statistical tools, to analyse the orderbook and extract insights.\n",
    "\n",
    "For example, a simple trader can observe the below pattern in the orderbook to\n",
    "understand that **the stock price will probably increase** (a lot of people want to buy stocks):\n",
    "\n",
    "<img src=\"data/lab2/orderbook_tec_buy.png\" width=\"600\" height=\"700\"/>\n",
    "<br>\n",
    "Similarly, in the picture below **a trader can see a possible negative trend**, due to high number of sell orders:\n",
    "\n",
    "<img src=\"data/lab2/orderbook_tec_sell.png\" width=\"600\" height=\"700\"/>"
   ],
   "metadata": {
    "collapsed": false
   }
  },
  {
   "cell_type": "markdown",
   "source": [
    "## Collect Orderbook data\n",
    "\n",
    "Usually **ordebook data are not public available**. They are expensive, and often provide only by the exchanges, like NASDAQ or NYSE.\n",
    "\n",
    "Trade companies or Banks use them to test their algorithms (back-testing) or to study correlation,\n",
    "phenomena, crashes and so on.\n",
    "\n",
    "\n",
    "For research we can use **LOBSTER data**, site: https://lobsterdata.com/.\n",
    "LOBSTER is an online limit order book data tool to provide easy-to-use, high-quality limit order book data (from NASDAQ).\n",
    "\n",
    "**Customized level of detail.**\n",
    "Select from up to 200 price levels available depending on the level of detail required for your research - whether 'trades and quotes', i.e. level 1, level 10 or level 20.\n",
    "\n",
    "**Latest data**.\n",
    "The database contains data from the 27th of June 2007 up to the day before yesterday.\n",
    "\n",
    "**Detailed event information.**\n",
    "Submissions, cancellations and executions (visible and hidden) are uniquely identified. For each limit order event in the requested price range the following details are included: Time stamp (up to nanosecond precision), order ID, price, size and buy/sell indicator.\n",
    "\n",
    "**Free access to samples of data:**\n",
    "From the web-site: https://lobsterdata.com/info/DataSamples.php you can download some samples of data for the homework and for testing your scripts.\n",
    "During the project, we will provide you the needed data."
   ],
   "metadata": {
    "collapsed": false
   }
  },
  {
   "cell_type": "markdown",
   "source": [
    "## LOBSTER data\n",
    "\n",
    "**Amazon data for 2012-06-21:**\n",
    "\n",
    "`AMZN_2012-06-21_34200000_57600000_message_5.csv`\n",
    "<br>\n",
    "`AMZN_2012-06-21_34200000_57600000_orderbook_5.csv`\n",
    "<br>\n",
    "`LOBSTER_SampleFiles_ReadMe.txt`"
   ],
   "metadata": {
    "collapsed": false
   }
  },
  {
   "cell_type": "code",
   "execution_count": 38,
   "metadata": {
    "pycharm": {
     "name": "#%%\n"
    },
    "scrolled": true
   },
   "outputs": [
    {
     "ename": "FileNotFoundError",
     "evalue": "[Errno 2] No such file or directory: 'data/lab2/amz/AMZN_2012-06-21_34200000_57600000_message_5.csv'",
     "output_type": "error",
     "traceback": [
      "\u001B[0;31m---------------------------------------------------------------------------\u001B[0m",
      "\u001B[0;31mFileNotFoundError\u001B[0m                         Traceback (most recent call last)",
      "\u001B[0;32m<ipython-input-38-b53eddcca873>\u001B[0m in \u001B[0;36m<module>\u001B[0;34m\u001B[0m\n\u001B[1;32m      1\u001B[0m \u001B[0;32mimport\u001B[0m \u001B[0mpandas\u001B[0m \u001B[0;32mas\u001B[0m \u001B[0mpd\u001B[0m\u001B[0;34m\u001B[0m\u001B[0;34m\u001B[0m\u001B[0m\n\u001B[1;32m      2\u001B[0m \u001B[0;34m\u001B[0m\u001B[0m\n\u001B[0;32m----> 3\u001B[0;31m \u001B[0mmessages\u001B[0m \u001B[0;34m=\u001B[0m \u001B[0mpd\u001B[0m\u001B[0;34m.\u001B[0m\u001B[0mread_csv\u001B[0m\u001B[0;34m(\u001B[0m\u001B[0;34m\"data/lab2/amz/AMZN_2012-06-21_34200000_57600000_message_5.csv\"\u001B[0m\u001B[0;34m)\u001B[0m\u001B[0;34m\u001B[0m\u001B[0;34m\u001B[0m\u001B[0m\n\u001B[0m\u001B[1;32m      4\u001B[0m \u001B[0morderbook\u001B[0m \u001B[0;34m=\u001B[0m \u001B[0mpd\u001B[0m\u001B[0;34m.\u001B[0m\u001B[0mread_csv\u001B[0m\u001B[0;34m(\u001B[0m\u001B[0;34m\"data/lab2/amz/AMZN_2012-06-21_34200000_57600000_orderbook_5.csv\"\u001B[0m\u001B[0;34m)\u001B[0m\u001B[0;34m\u001B[0m\u001B[0;34m\u001B[0m\u001B[0m\n\u001B[1;32m      5\u001B[0m \u001B[0;34m\u001B[0m\u001B[0m\n",
      "\u001B[0;32m~/.local/lib/python3.8/site-packages/pandas/io/parsers.py\u001B[0m in \u001B[0;36mread_csv\u001B[0;34m(filepath_or_buffer, sep, delimiter, header, names, index_col, usecols, squeeze, prefix, mangle_dupe_cols, dtype, engine, converters, true_values, false_values, skipinitialspace, skiprows, skipfooter, nrows, na_values, keep_default_na, na_filter, verbose, skip_blank_lines, parse_dates, infer_datetime_format, keep_date_col, date_parser, dayfirst, cache_dates, iterator, chunksize, compression, thousands, decimal, lineterminator, quotechar, quoting, doublequote, escapechar, comment, encoding, dialect, error_bad_lines, warn_bad_lines, delim_whitespace, low_memory, memory_map, float_precision)\u001B[0m\n\u001B[1;32m    684\u001B[0m     )\n\u001B[1;32m    685\u001B[0m \u001B[0;34m\u001B[0m\u001B[0m\n\u001B[0;32m--> 686\u001B[0;31m     \u001B[0;32mreturn\u001B[0m \u001B[0m_read\u001B[0m\u001B[0;34m(\u001B[0m\u001B[0mfilepath_or_buffer\u001B[0m\u001B[0;34m,\u001B[0m \u001B[0mkwds\u001B[0m\u001B[0;34m)\u001B[0m\u001B[0;34m\u001B[0m\u001B[0;34m\u001B[0m\u001B[0m\n\u001B[0m\u001B[1;32m    687\u001B[0m \u001B[0;34m\u001B[0m\u001B[0m\n\u001B[1;32m    688\u001B[0m \u001B[0;34m\u001B[0m\u001B[0m\n",
      "\u001B[0;32m~/.local/lib/python3.8/site-packages/pandas/io/parsers.py\u001B[0m in \u001B[0;36m_read\u001B[0;34m(filepath_or_buffer, kwds)\u001B[0m\n\u001B[1;32m    450\u001B[0m \u001B[0;34m\u001B[0m\u001B[0m\n\u001B[1;32m    451\u001B[0m     \u001B[0;31m# Create the parser.\u001B[0m\u001B[0;34m\u001B[0m\u001B[0;34m\u001B[0m\u001B[0;34m\u001B[0m\u001B[0m\n\u001B[0;32m--> 452\u001B[0;31m     \u001B[0mparser\u001B[0m \u001B[0;34m=\u001B[0m \u001B[0mTextFileReader\u001B[0m\u001B[0;34m(\u001B[0m\u001B[0mfp_or_buf\u001B[0m\u001B[0;34m,\u001B[0m \u001B[0;34m**\u001B[0m\u001B[0mkwds\u001B[0m\u001B[0;34m)\u001B[0m\u001B[0;34m\u001B[0m\u001B[0;34m\u001B[0m\u001B[0m\n\u001B[0m\u001B[1;32m    453\u001B[0m \u001B[0;34m\u001B[0m\u001B[0m\n\u001B[1;32m    454\u001B[0m     \u001B[0;32mif\u001B[0m \u001B[0mchunksize\u001B[0m \u001B[0;32mor\u001B[0m \u001B[0miterator\u001B[0m\u001B[0;34m:\u001B[0m\u001B[0;34m\u001B[0m\u001B[0;34m\u001B[0m\u001B[0m\n",
      "\u001B[0;32m~/.local/lib/python3.8/site-packages/pandas/io/parsers.py\u001B[0m in \u001B[0;36m__init__\u001B[0;34m(self, f, engine, **kwds)\u001B[0m\n\u001B[1;32m    934\u001B[0m             \u001B[0mself\u001B[0m\u001B[0;34m.\u001B[0m\u001B[0moptions\u001B[0m\u001B[0;34m[\u001B[0m\u001B[0;34m\"has_index_names\"\u001B[0m\u001B[0;34m]\u001B[0m \u001B[0;34m=\u001B[0m \u001B[0mkwds\u001B[0m\u001B[0;34m[\u001B[0m\u001B[0;34m\"has_index_names\"\u001B[0m\u001B[0;34m]\u001B[0m\u001B[0;34m\u001B[0m\u001B[0;34m\u001B[0m\u001B[0m\n\u001B[1;32m    935\u001B[0m \u001B[0;34m\u001B[0m\u001B[0m\n\u001B[0;32m--> 936\u001B[0;31m         \u001B[0mself\u001B[0m\u001B[0;34m.\u001B[0m\u001B[0m_make_engine\u001B[0m\u001B[0;34m(\u001B[0m\u001B[0mself\u001B[0m\u001B[0;34m.\u001B[0m\u001B[0mengine\u001B[0m\u001B[0;34m)\u001B[0m\u001B[0;34m\u001B[0m\u001B[0;34m\u001B[0m\u001B[0m\n\u001B[0m\u001B[1;32m    937\u001B[0m \u001B[0;34m\u001B[0m\u001B[0m\n\u001B[1;32m    938\u001B[0m     \u001B[0;32mdef\u001B[0m \u001B[0mclose\u001B[0m\u001B[0;34m(\u001B[0m\u001B[0mself\u001B[0m\u001B[0;34m)\u001B[0m\u001B[0;34m:\u001B[0m\u001B[0;34m\u001B[0m\u001B[0;34m\u001B[0m\u001B[0m\n",
      "\u001B[0;32m~/.local/lib/python3.8/site-packages/pandas/io/parsers.py\u001B[0m in \u001B[0;36m_make_engine\u001B[0;34m(self, engine)\u001B[0m\n\u001B[1;32m   1166\u001B[0m     \u001B[0;32mdef\u001B[0m \u001B[0m_make_engine\u001B[0m\u001B[0;34m(\u001B[0m\u001B[0mself\u001B[0m\u001B[0;34m,\u001B[0m \u001B[0mengine\u001B[0m\u001B[0;34m=\u001B[0m\u001B[0;34m\"c\"\u001B[0m\u001B[0;34m)\u001B[0m\u001B[0;34m:\u001B[0m\u001B[0;34m\u001B[0m\u001B[0;34m\u001B[0m\u001B[0m\n\u001B[1;32m   1167\u001B[0m         \u001B[0;32mif\u001B[0m \u001B[0mengine\u001B[0m \u001B[0;34m==\u001B[0m \u001B[0;34m\"c\"\u001B[0m\u001B[0;34m:\u001B[0m\u001B[0;34m\u001B[0m\u001B[0;34m\u001B[0m\u001B[0m\n\u001B[0;32m-> 1168\u001B[0;31m             \u001B[0mself\u001B[0m\u001B[0;34m.\u001B[0m\u001B[0m_engine\u001B[0m \u001B[0;34m=\u001B[0m \u001B[0mCParserWrapper\u001B[0m\u001B[0;34m(\u001B[0m\u001B[0mself\u001B[0m\u001B[0;34m.\u001B[0m\u001B[0mf\u001B[0m\u001B[0;34m,\u001B[0m \u001B[0;34m**\u001B[0m\u001B[0mself\u001B[0m\u001B[0;34m.\u001B[0m\u001B[0moptions\u001B[0m\u001B[0;34m)\u001B[0m\u001B[0;34m\u001B[0m\u001B[0;34m\u001B[0m\u001B[0m\n\u001B[0m\u001B[1;32m   1169\u001B[0m         \u001B[0;32melse\u001B[0m\u001B[0;34m:\u001B[0m\u001B[0;34m\u001B[0m\u001B[0;34m\u001B[0m\u001B[0m\n\u001B[1;32m   1170\u001B[0m             \u001B[0;32mif\u001B[0m \u001B[0mengine\u001B[0m \u001B[0;34m==\u001B[0m \u001B[0;34m\"python\"\u001B[0m\u001B[0;34m:\u001B[0m\u001B[0;34m\u001B[0m\u001B[0;34m\u001B[0m\u001B[0m\n",
      "\u001B[0;32m~/.local/lib/python3.8/site-packages/pandas/io/parsers.py\u001B[0m in \u001B[0;36m__init__\u001B[0;34m(self, src, **kwds)\u001B[0m\n\u001B[1;32m   1996\u001B[0m         \u001B[0mkwds\u001B[0m\u001B[0;34m[\u001B[0m\u001B[0;34m\"usecols\"\u001B[0m\u001B[0;34m]\u001B[0m \u001B[0;34m=\u001B[0m \u001B[0mself\u001B[0m\u001B[0;34m.\u001B[0m\u001B[0musecols\u001B[0m\u001B[0;34m\u001B[0m\u001B[0;34m\u001B[0m\u001B[0m\n\u001B[1;32m   1997\u001B[0m \u001B[0;34m\u001B[0m\u001B[0m\n\u001B[0;32m-> 1998\u001B[0;31m         \u001B[0mself\u001B[0m\u001B[0;34m.\u001B[0m\u001B[0m_reader\u001B[0m \u001B[0;34m=\u001B[0m \u001B[0mparsers\u001B[0m\u001B[0;34m.\u001B[0m\u001B[0mTextReader\u001B[0m\u001B[0;34m(\u001B[0m\u001B[0msrc\u001B[0m\u001B[0;34m,\u001B[0m \u001B[0;34m**\u001B[0m\u001B[0mkwds\u001B[0m\u001B[0;34m)\u001B[0m\u001B[0;34m\u001B[0m\u001B[0;34m\u001B[0m\u001B[0m\n\u001B[0m\u001B[1;32m   1999\u001B[0m         \u001B[0mself\u001B[0m\u001B[0;34m.\u001B[0m\u001B[0munnamed_cols\u001B[0m \u001B[0;34m=\u001B[0m \u001B[0mself\u001B[0m\u001B[0;34m.\u001B[0m\u001B[0m_reader\u001B[0m\u001B[0;34m.\u001B[0m\u001B[0munnamed_cols\u001B[0m\u001B[0;34m\u001B[0m\u001B[0;34m\u001B[0m\u001B[0m\n\u001B[1;32m   2000\u001B[0m \u001B[0;34m\u001B[0m\u001B[0m\n",
      "\u001B[0;32mpandas/_libs/parsers.pyx\u001B[0m in \u001B[0;36mpandas._libs.parsers.TextReader.__cinit__\u001B[0;34m()\u001B[0m\n",
      "\u001B[0;32mpandas/_libs/parsers.pyx\u001B[0m in \u001B[0;36mpandas._libs.parsers.TextReader._setup_parser_source\u001B[0;34m()\u001B[0m\n",
      "\u001B[0;31mFileNotFoundError\u001B[0m: [Errno 2] No such file or directory: 'data/lab2/amz/AMZN_2012-06-21_34200000_57600000_message_5.csv'"
     ]
    }
   ],
   "source": [
    "import pandas as pd\n",
    "\n",
    "messages = pd.read_csv(\"data/lab2/amz/AMZN_2012-06-21_34200000_57600000_message_1.csv\")\n",
    "orderbook = pd.read_csv(\"data/lab2/amz/AMZN_2012-06-21_34200000_57600000_orderbook_1.csv\")\n",
    "\n",
    "print(\"History messages\")\n",
    "print(messages)\n",
    "print(\"Orderbook\")\n",
    "print(orderbook)"
   ]
  },
  {
   "cell_type": "code",
   "execution_count": 40,
   "metadata": {
    "pycharm": {
     "name": "#%%\n"
    }
   },
   "outputs": [
    {
     "name": "stdout",
     "output_type": "stream",
     "text": [
      "History messages\n",
      "               time  event_type   order_id  size    price  direction\n",
      "0      34200.017460           5          0     1  2238200         -1\n",
      "1      34200.189608           1   11885113    21  2238100          1\n",
      "2      34200.190226           4   11885113    21  2238100          1\n",
      "3      34200.190226           4   11534792    26  2237500          1\n",
      "4      34200.372780           5          0   100  2238400         -1\n",
      "...             ...         ...        ...   ...      ...        ...\n",
      "57510  57599.545828           4  282917222     9  2205100          1\n",
      "57511  57599.545828           4  286916542    51  2205100          1\n",
      "57512  57599.903989           3  287142900   100  2206200         -1\n",
      "57513  57599.958245           1  287174077   100  2206300         -1\n",
      "57514  57599.959360           3  287174077   100  2206300         -1\n",
      "\n",
      "[57515 rows x 6 columns]\n",
      "Orderbook\n",
      "          sell  vsell      buy  vbuy\n",
      "0      2239500    100  2231800   100\n",
      "1      2239500    100  2238100    21\n",
      "2      2239500    100  2237500   100\n",
      "3      2239500    100  2237500    74\n",
      "4      2239500    100  2237500    74\n",
      "...        ...    ...      ...   ...\n",
      "57510  2206200    100  2205100   300\n",
      "57511  2206200    100  2205100   249\n",
      "57512  2206400    100  2205100   249\n",
      "57513  2206300    100  2205100   249\n",
      "57514  2206400    100  2205100   249\n",
      "\n",
      "[57515 rows x 4 columns]\n"
     ]
    }
   ],
   "source": [
    "# take from readme the description of columns\n",
    "COLUMNS_NAMES = {\"orderbook\": [\"sell\", \"vsell\", \"buy\", \"vbuy\"],\n",
    "                 \"message\": [\"time\", \"event_type\", \"order_id\", \"size\", \"price\", \"direction\"]}\n",
    "\n",
    "messages = pd.read_csv(\"data/lab2/amz/AMZN_2012-06-21_34200000_57600000_message_1.csv\", names=COLUMNS_NAMES[\"message\"])\n",
    "orderbook = pd.read_csv(\"data/lab2/amz/AMZN_2012-06-21_34200000_57600000_orderbook_1.csv\", names=COLUMNS_NAMES[\"orderbook\"])\n",
    "\n",
    "\n",
    "print(\"History messages\")\n",
    "print(messages)"
   ]
  },
  {
   "cell_type": "markdown",
   "source": [
    "## Messages\n",
    "<img src=\"data/lab2/message_mes_info.png\" width=\"900\" height=\"700\"/>\n",
    "<br>"
   ],
   "metadata": {
    "collapsed": false
   }
  },
  {
   "cell_type": "code",
   "execution_count": null,
   "outputs": [],
   "source": [
    "print(\"Orderbook\")\n",
    "print(orderbook)"
   ],
   "metadata": {
    "collapsed": false,
    "pycharm": {
     "name": "#%%\n"
    }
   }
  },
  {
   "cell_type": "markdown",
   "source": [
    "## Orderbook\n",
    "<img src=\"data/lab2/lobster_order_info.png\" width=\"900\" height=\"700\"/>\n"
   ],
   "metadata": {
    "collapsed": false
   }
  },
  {
   "cell_type": "code",
   "execution_count": 45,
   "metadata": {
    "pycharm": {
     "name": "#%%\n"
    }
   },
   "outputs": [
    {
     "name": "stdout",
     "output_type": "stream",
     "text": [
      "               time  event_type   order_id  size    price  direction     sell  vsell      buy  vbuy\n",
      "0      34200.017460           5          0     1  2238200         -1  2239500    100  2231800   100\n",
      "1      34200.189608           1   11885113    21  2238100          1  2239500    100  2238100    21\n",
      "2      34200.190226           4   11885113    21  2238100          1  2239500    100  2237500   100\n",
      "3      34200.190226           4   11534792    26  2237500          1  2239500    100  2237500    74\n",
      "4      34200.372780           5          0   100  2238400         -1  2239500    100  2237500    74\n",
      "...             ...         ...        ...   ...      ...        ...      ...    ...      ...   ...\n",
      "57510  57599.545828           4  282917222     9  2205100          1  2206200    100  2205100   300\n",
      "57511  57599.545828           4  286916542    51  2205100          1  2206200    100  2205100   249\n",
      "57512  57599.903989           3  287142900   100  2206200         -1  2206400    100  2205100   249\n",
      "57513  57599.958245           1  287174077   100  2206300         -1  2206300    100  2205100   249\n",
      "57514  57599.959360           3  287174077   100  2206300         -1  2206400    100  2205100   249\n",
      "\n",
      "[57515 rows x 10 columns]\n"
     ]
    }
   ],
   "source": [
    "#merge data to combine orderbook with time and messages\n",
    "all_lob_data = messages.copy()\n",
    "all_lob_data[COLUMNS_NAMES[\"orderbook\"]] = orderbook\n",
    "print(all_lob_data)"
   ]
  },
  {
   "cell_type": "code",
   "execution_count": 59,
   "metadata": {},
   "outputs": [
    {
     "name": "stdout",
     "output_type": "stream",
     "text": [
      "                            date          time  event_type   order_id  size    price  direction     sell  vsell      buy  vbuy\n",
      "5000  2012-06-21 09:59:20.882480  35960.882480           3   45998668    19  2243700         -1  2244100     16  2241800    19\n",
      "5001  2012-06-21 09:59:20.883326  35960.883326           3   45998662    16  2244100         -1  2244400    335  2241800    19\n",
      "5002  2012-06-21 09:59:25.602614  35965.602614           1   46059567     5  2244400         -1  2244400    340  2241800    19\n",
      "5003  2012-06-21 09:59:27.300591  35967.300591           3   45989742    19  2241800          1  2244400    340  2241700    16\n",
      "5004  2012-06-21 09:59:27.303374  35967.303374           1   46084534    16  2243700         -1  2243700     16  2241700    16\n",
      "...                          ...           ...         ...        ...   ...      ...        ...      ...    ...      ...   ...\n",
      "57510 2012-06-21 15:59:59.545828  57599.545828           4  282917222     9  2205100          1  2206200    100  2205100   300\n",
      "57511 2012-06-21 15:59:59.545828  57599.545828           4  286916542    51  2205100          1  2206200    100  2205100   249\n",
      "57512 2012-06-21 15:59:59.903989  57599.903989           3  287142900   100  2206200         -1  2206400    100  2205100   249\n",
      "57513 2012-06-21 15:59:59.958245  57599.958245           1  287174077   100  2206300         -1  2206300    100  2205100   249\n",
      "57514 2012-06-21 15:59:59.959360  57599.959360           3  287174077   100  2206300         -1  2206400    100  2205100   249\n",
      "\n",
      "[52515 rows x 11 columns]\n"
     ]
    }
   ],
   "source": [
    "from datetime import datetime, timedelta\n",
    "\n",
    "def add_readble_time(start_date, df):\n",
    "    \"\"\" change index of dataframe. \"\"\"\n",
    "    df = df.copy()\n",
    "    df.insert(0, \"date\", [start_date + timedelta(seconds=i) for i in df[\"time\"]])\n",
    "    return df\n",
    "\n",
    "start_date = datetime.strptime(\"21.06.2012\", \"%d.%m.%Y\")\n",
    "lob_data_w_date = add_readble_time(start_date, all_lob_data)\n",
    "print(lob_data_w_date)"
   ]
  },
  {
   "cell_type": "markdown",
   "source": [
    "## Mid prices\n",
    "How we can print mid-prices using these data?\n",
    "\n",
    "Remember the definition of mid-prices:\n",
    "  $mid\\_price(t) = \\frac{best\\_bid(t) \\ + \\ best\\_ask(t)}{2}$\n",
    "\n",
    "<img src=\"data/lab2/mid_price.png\" width=\"900\" height=\"700\"/>\n"
   ],
   "metadata": {
    "collapsed": false
   }
  },
  {
   "cell_type": "code",
   "execution_count": 51,
   "metadata": {
    "pycharm": {
     "name": "#%%\n"
    }
   },
   "outputs": [
    {
     "name": "stdout",
     "output_type": "stream",
     "text": [
      "                          sell        buy  mid_price\n",
      "date                                                \n",
      "2012-06-21 09:30:00  2239500.0  2238400.0  2238950.0\n",
      "2012-06-21 09:30:01  2238600.0  2238400.0  2238500.0\n",
      "2012-06-21 09:30:02  2242400.0  2238900.0  2240650.0\n",
      "2012-06-21 09:30:03  2242000.0  2238900.0  2240450.0\n",
      "2012-06-21 09:30:04  2241000.0  2238900.0  2239950.0\n",
      "...                        ...        ...        ...\n",
      "2012-06-21 15:59:55  2206000.0  2206000.0  2206000.0\n",
      "2012-06-21 15:59:56  2206200.0  2205900.0  2206050.0\n",
      "2012-06-21 15:59:57  2206300.0  2206000.0  2206150.0\n",
      "2012-06-21 15:59:58  2206300.0  2206000.0  2206150.0\n",
      "2012-06-21 15:59:59  2205300.0  2205300.0  2205300.0\n",
      "\n",
      "[23400 rows x 3 columns]\n"
     ]
    }
   ],
   "source": [
    "# Compute the mid-price\n",
    "mid_price_df = lob_data_w_date\n",
    "mid_price_df.index = mid_price_df[\"date\"]\n",
    "out_df = mid_price_df[[\"sell\", \"buy\"]].resample(\"1s\").agg({\"sell\" : 'min', \"buy\" : 'max'})\n",
    "out_df[\"mid_price\"] = (out_df[\"sell\"] + out_df[\"buy\"]) / 2\n",
    "print(out_df)"
   ]
  },
  {
   "cell_type": "code",
   "execution_count": 52,
   "metadata": {
    "pycharm": {
     "name": "#%%\n"
    }
   },
   "outputs": [
    {
     "data": {
      "text/plain": "<Figure size 432x288 with 1 Axes>",
      "image/png": "[encoded data removed]"
     },
     "metadata": {
      "needs_background": "light"
     },
     "output_type": "display_data"
    }
   ],
   "source": [
    "# Plot mid-price\n",
    "from matplotlib import pyplot as plt\n",
    "\n",
    "out_df[\"mid_price\"].plot()\n",
    "plt.show()\n"
   ]
  },
  {
   "cell_type": "markdown",
   "source": [
    "## Price chart\n",
    "The mid-price is not exactly the chart price that you see on yahoo, google finance and so on.\n",
    "<br> Assume that a stock is usually traded at $20\\$$, and for some strange reasons one day it has zero trades, only one bid and one ask.\n",
    "<br> One bid at $1000$ and one ask at $10$, you can say that the price is $505$? False.\n",
    "\n",
    "You have to use the **actual trades** messages.\n"
   ],
   "metadata": {
    "collapsed": false
   }
  },
  {
   "cell_type": "code",
   "execution_count": 54,
   "metadata": {
    "pycharm": {
     "name": "#%%\n"
    }
   },
   "outputs": [
    {
     "data": {
      "text/plain": "<Figure size 432x288 with 1 Axes>",
      "image/png": "[encoded data removed]"
     },
     "metadata": {
      "needs_background": "light"
     },
     "output_type": "display_data"
    }
   ],
   "source": [
    "# Compute the actual price along the day\n",
    "\n",
    "# use only executed orders::\n",
    "#OrderEvent.EXECUTION,\n",
    "#OrderEvent.HIDDEN_EXECUTION\n",
    "df_m_executed = lob_data_w_date[(lob_data_w_date[\"event_type\"].isin([4,5]))]\n",
    "df_m_executed.index = df_m_executed[\"date\"]\n",
    "out_df_price = df_m_executed[[\"price\"]].resample(\"1s\").first()\n",
    "\n",
    "print(out_df_price)\n",
    "out_df_price[\"price\"].plot()\n",
    "plt.show()\n"
   ]
  },
  {
   "cell_type": "code",
   "execution_count": 60,
   "metadata": {
    "pycharm": {
     "name": "#%%\n"
    }
   },
   "outputs": [
    {
     "name": "stdout",
     "output_type": "stream",
     "text": [
      "                            date          time  event_type   order_id  size    price  direction     sell  vsell      buy  vbuy\n",
      "5000  2012-06-21 09:59:20.882480  35960.882480           3   45998668    19  2243700         -1  2244100     16  2241800    19\n",
      "5001  2012-06-21 09:59:20.883326  35960.883326           3   45998662    16  2244100         -1  2244400    335  2241800    19\n",
      "5002  2012-06-21 09:59:25.602614  35965.602614           1   46059567     5  2244400         -1  2244400    340  2241800    19\n",
      "5003  2012-06-21 09:59:27.300591  35967.300591           3   45989742    19  2241800          1  2244400    340  2241700    16\n",
      "5004  2012-06-21 09:59:27.303374  35967.303374           1   46084534    16  2243700         -1  2243700     16  2241700    16\n",
      "...                          ...           ...         ...        ...   ...      ...        ...      ...    ...      ...   ...\n",
      "57510 2012-06-21 15:59:59.545828  57599.545828           4  282917222     9  2205100          1  2206200    100  2205100   300\n",
      "57511 2012-06-21 15:59:59.545828  57599.545828           4  286916542    51  2205100          1  2206200    100  2205100   249\n",
      "57512 2012-06-21 15:59:59.903989  57599.903989           3  287142900   100  2206200         -1  2206400    100  2205100   249\n",
      "57513 2012-06-21 15:59:59.958245  57599.958245           1  287174077   100  2206300         -1  2206300    100  2205100   249\n",
      "57514 2012-06-21 15:59:59.959360  57599.959360           3  287174077   100  2206300         -1  2206400    100  2205100   249\n",
      "\n",
      "[52515 rows x 11 columns]\n"
     ]
    },
    {
     "data": {
      "text/plain": "<Figure size 432x288 with 1 Axes>",
      "image/png": "[encoded data removed]"
     },
     "metadata": {
      "needs_background": "light"
     },
     "output_type": "display_data"
    }
   ],
   "source": [
    "print(lob_data_w_date[5000:])\n",
    "\n",
    "# fill empty holes\n",
    "out_df_price[\"price\"] = out_df_price[\"price\"].fillna(method=\"ffill\")\n",
    "out_df_price[\"price\"].plot()\n",
    "plt.show()\n"
   ]
  },
  {
   "cell_type": "markdown",
   "metadata": {
    "pycharm": {
     "name": "#%% md\n"
    }
   },
   "source": [
    "This notebook and more is available for download at: https://github.com/matteoprata/AI4Trading_20_21"
   ]
  }
 ],
 "metadata": {
  "kernelspec": {
   "display_name": "Python 3",
   "language": "python",
   "name": "python3"
  },
  "language_info": {
   "codemirror_mode": {
    "name": "ipython",
    "version": 3
   },
   "file_extension": ".py",
   "mimetype": "text/x-python",
   "name": "python",
   "nbconvert_exporter": "python",
   "pygments_lexer": "ipython3",
   "version": "3.7.5"
  },
  "pycharm": {
   "stem_cell": {
    "cell_type": "raw",
    "source": [
     "\n"
    ],
    "metadata": {
     "collapsed": false
    }
   }
  }
 },
 "nbformat": 4,
 "nbformat_minor": 1
}