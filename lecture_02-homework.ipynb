{
  "nbformat": 4,
  "nbformat_minor": 0,
  "metadata": {
    "colab": {
      "name": "AFC Homework 2.ipynb",
      "provenance": [],
      "collapsed_sections": []
    },
    "kernelspec": {
      "name": "python3",
      "display_name": "Python 3"
    }
  },
  "cells": [
    {
      "cell_type": "markdown",
      "metadata": {
        "id": "LXrJ3T0rbDTM"
      },
      "source": [
        "#Introduction\n",
        "\n",
        "![Intro](https://docs.binance.org/assets/trading-interface/trading-page.png)\n",
        "\n",
        "\n",
        "Financial Data can be represented in multiple ways. Depending on the format it is possible to have more different views and information. For example, an OHLCV datasheet with granularity \"one day\" can represent different trends with respect to a datasheet of the same period but with granularity \"one second\".\n",
        "\n",
        "The deepest representation of a trading market, meaning the one which collects the wider amount of information, is the list of messages which are received and sent by the exchange.\n",
        "\n",
        "However, obtaining such data is not easy, and requires special agreements with the exchanges.\n",
        "\n",
        "#Providing Data\n",
        "\n",
        "![Data](https://storage.needpix.com/rsynced_images/table-2816806_1280.jpg)\n",
        "\n",
        "\n",
        "One way to obtain these data is through https://lobsterdata.com/.\n",
        "\n",
        "This service offers, for many stocks, the \"orderbook\" and \"messages\" files. With these files, it is possible to reconstruct the entire order book.\n",
        "\n",
        "You can download as example the APPL file https://lobsterdata.com/info/DataSamples.php .\n",
        "\n",
        "#Homework 2\n",
        "\n",
        "![OHLC](https://i.pinimg.com/originals/8a/d5/d2/8ad5d267b664edd26646ada95695e56e.png)\n",
        "\n",
        "\n",
        "\n",
        "For this homework, you have to decode these files and transform them in a OHLCV at different granularity (1 SEC, 10 SEC, 1MIN, 1 HOUR).\n",
        "\n",
        "The OHLCV must be exported in csv format.\n",
        "\n",
        "Hint: look at the format of the messages in lobster. Which messages you need to consider?\n",
        "\n",
        "Hint2: in the data folder you can find the APPL OHLCV at 1 sec. Use it to check your code.\n",
        "\n",
        "\n",
        "\n",
        "\n",
        "#Homework 2 - continue\n",
        "Add a new column to the OHLCV, called R. For each value\n",
        " $R(t) = \\frac{m_+(t)-m_-(t)}{m_-(t)}$,\n",
        "with $m_-(t)=\\frac{1}{k}\\sum_{i=0}^k O_{t-i}$\n",
        "and $m_+(t)=\\frac{1}{k}\\sum_{i=0}^k O_{t+i}$.\n",
        " With $O$ we identify the column Open, and with $O_{t}$ we identify the value of the column Open at time t. For example, $O_{0}$ is the Open value of the first line of the sheet. You can choose K. We suggest to start with 5.\n",
        "\n",
        "\n",
        "\n",
        "#Input and Submission:\n",
        "Please use one of the following data from LOBSTER (level 10):\n",
        "- APPLE: https://lobsterdata.com/info/sample/LOBSTER_SampleFile_AAPL_2012-06-21_10.zip\n",
        "- AMAZON: https://lobsterdata.com/info/sample/LOBSTER_SampleFile_AMZN_2012-06-21_10.zip\n",
        "\n",
        "\n",
        "**Please submit:**\n",
        "\n",
        "- The python code : surname_studentid_code.py\n",
        "\n",
        "- A brief report where you will highlight the chosen input file : surname_studentid_report.txt\n",
        "\n",
        "- The output csv file with the ohlc format data along with the two additional columns (volume and R) : surname_studentid_output_csv.csv\n"
      ]
    },
    {
      "cell_type": "code",
      "metadata": {
        "id": "aJWbnjMtYPxe"
      },
      "source": [
        ""
      ],
      "execution_count": null,
      "outputs": []
    }
  ]
}